{
  "cells": [
    {
      "cell_type": "code",
      "execution_count": null,
      "metadata": {
        "colab": {
          "base_uri": "https://localhost:8080/"
        },
        "id": "TL8cCx5qzZ8L",
        "outputId": "f871e2f7-7bb5-4324-aadd-b5e5025a19cd"
      },
      "outputs": [
        {
          "output_type": "stream",
          "name": "stdout",
          "text": [
            "Mounted at /content/drive\n"
          ]
        }
      ],
      "source": [
        "import numpy as np\n",
        "import pandas as pd\n",
        "import joblib\n",
        "from google.colab import drive\n",
        "from sklearn.impute import SimpleImputer\n",
        "from sklearn.preprocessing import StandardScaler\n",
        "from sklearn.ensemble import RandomForestRegressor, GradientBoostingRegressor\n",
        "from sklearn.model_selection import train_test_split, cross_val_score\n",
        "import xgboost as xgb\n",
        "from sklearn.ensemble import GradientBoostingRegressor\n",
        "from sklearn.ensemble import RandomForestRegressor\n",
        "from sklearn.metrics import mean_absolute_error\n",
        "from sklearn.model_selection import cross_val_predict\n",
        "from sklearn.model_selection import GridSearchCV\n",
        "from sklearn.model_selection import RandomizedSearchCV\n",
        "drive.mount('/content/drive')"
      ]
    },
    {
      "cell_type": "markdown",
      "metadata": {
        "id": "AddL1FlYz30_"
      },
      "source": [
        "1. Demonstrate the data preparation & feature extraction process [5]\n",
        "2. Create feature subsets that show maximum correlation with the dependent variable. [5]"
      ]
    },
    {
      "cell_type": "code",
      "execution_count": null,
      "metadata": {
        "id": "AD4LQXanzxtZ"
      },
      "outputs": [],
      "source": [
        "players_21 = pd.read_csv('/content/drive/My Drive/Classification/players_21.csv')\n",
        "players_21"
      ]
    },
    {
      "cell_type": "code",
      "execution_count": null,
      "metadata": {
        "id": "QpDZ0O_v0D3m"
      },
      "outputs": [],
      "source": [
        "players_22 = pd.read_csv('/content/drive/My Drive/Classification/players_22.csv')\n",
        "players_22"
      ]
    },
    {
      "cell_type": "code",
      "execution_count": null,
      "metadata": {
        "id": "9fzT_oE50Grh"
      },
      "outputs": [],
      "source": [
        "players_21.shape"
      ]
    },
    {
      "cell_type": "code",
      "execution_count": null,
      "metadata": {
        "id": "x1a93hF50PTi"
      },
      "outputs": [],
      "source": [
        "players_21.describe()"
      ]
    },
    {
      "cell_type": "code",
      "execution_count": null,
      "metadata": {
        "id": "IgDAvEvh0Q1a"
      },
      "outputs": [],
      "source": [
        "players_21.info()"
      ]
    },
    {
      "cell_type": "code",
      "execution_count": null,
      "metadata": {
        "id": "a5FOk1AD0WMb"
      },
      "outputs": [],
      "source": [
        "players_21.columns"
      ]
    },
    {
      "cell_type": "code",
      "execution_count": null,
      "metadata": {
        "id": "k7Zd07mX0Z_L"
      },
      "outputs": [],
      "source": [
        "players_21.head()"
      ]
    },
    {
      "cell_type": "markdown",
      "metadata": {
        "id": "kBtf03zv0kHf"
      },
      "source": [
        "Data cleaning"
      ]
    },
    {
      "cell_type": "code",
      "execution_count": null,
      "metadata": {
        "id": "0yKxCyqg0e0_"
      },
      "outputs": [],
      "source": [
        "#dropping columns with more than 30% missing values\n",
        "missing_percentage = players_21.isnull().sum() / len(players_21) * 100\n",
        "columns_to_drop = missing_percentage[missing_percentage > 30].index\n",
        "players_21.drop(columns=columns_to_drop, inplace=True)"
      ]
    },
    {
      "cell_type": "code",
      "execution_count": null,
      "metadata": {
        "id": "W8It8Bm90jQG"
      },
      "outputs": [],
      "source": [
        "#dropping URLs and IDs since they do not contribute to player rating\n",
        "url_columns = [col for col in players_21.columns if 'url' in col.lower() or 'id' in col.lower()]\n",
        "players_21.drop(columns=url_columns, inplace=True)\n",
        "players_21.info()"
      ]
    },
    {
      "cell_type": "code",
      "execution_count": null,
      "metadata": {
        "id": "gapEzbID02_U"
      },
      "outputs": [],
      "source": [
        "# Splitting into numeric and categorical\n",
        "numeric_data = players_21.select_dtypes(include=['int64', 'float64'])\n",
        "categorical_data = players_21.select_dtypes(include=['object'])"
      ]
    },
    {
      "cell_type": "code",
      "execution_count": null,
      "metadata": {
        "id": "lkwD6F1g06JA"
      },
      "outputs": [],
      "source": [
        "# Imputing numeric data with the mean\n",
        "mean_imputer = SimpleImputer(strategy='mean')\n",
        "numeric_data_imputed = pd.DataFrame(mean_imputer.fit_transform(numeric_data), columns=numeric_data.columns)"
      ]
    },
    {
      "cell_type": "code",
      "execution_count": null,
      "metadata": {
        "id": "y26I0Ayb1Hll"
      },
      "outputs": [],
      "source": [
        "# Imputing categorical data with the mode\n",
        "mode_imputer = SimpleImputer(strategy='most_frequent')\n",
        "categorical_data_imputed = pd.DataFrame(mode_imputer.fit_transform(categorical_data), columns=categorical_data.columns)"
      ]
    },
    {
      "cell_type": "code",
      "execution_count": null,
      "metadata": {
        "id": "c_Wc7jF-1NXM"
      },
      "outputs": [],
      "source": [
        "from sklearn.preprocessing import LabelEncoder\n",
        "# Label encoding the imputed categorical data using Pandas\n",
        "categorical_data_imputed = categorical_data_imputed.apply(lambda col: col.astype('category').cat.codes)"
      ]
    },
    {
      "cell_type": "code",
      "execution_count": null,
      "metadata": {
        "id": "SVPzBIIF1WQy"
      },
      "outputs": [],
      "source": [
        "# Combining the imputed data back together\n",
        "players_21_imputed = pd.concat([numeric_data_imputed, categorical_data_imputed], axis=1)\n",
        "players_21_imputed = players_21_imputed[players_21.columns]\n",
        "players_21_imputed"
      ]
    },
    {
      "cell_type": "code",
      "execution_count": null,
      "metadata": {
        "id": "PaatJAgX1dmq"
      },
      "outputs": [],
      "source": [
        "#doing correlation to choose highly related columns\n",
        "correlation_matrix = players_21_imputed.corr()\n",
        "overall_correlation = correlation_matrix['overall'].sort_values(ascending=False)\n",
        "overall_correlation"
      ]
    },
    {
      "cell_type": "code",
      "execution_count": null,
      "metadata": {
        "id": "QEhEg3d_1n4Y"
      },
      "outputs": [],
      "source": [
        "# Extract columns with correlation greater than 0.5\n",
        "highly_correlated_features = [feature for feature, corr_value in overall_correlation.items() if 0.5 < corr_value < 1.0]\n",
        "highly_correlated_features"
      ]
    },
    {
      "cell_type": "code",
      "execution_count": null,
      "metadata": {
        "id": "-0XREt_Z1y7A"
      },
      "outputs": [],
      "source": [
        "# Dropping these columns since they all fall under player positions and do not directly influence player rating\n",
        "columns_to_drop = ['lcm', 'cm', 'rcm', 'lm', 'rm', 'cam', 'ram', 'lam', 'lf', 'rf', 'cf',\n",
        "                   'rw', 'lw', 'st', 'ls', 'rs', 'rwb', 'lwb', 'ldm', 'cdm', 'rdm', 'rb', 'lb', 'cb','lcb','rcb',]\n",
        "highly_correlated_features = [feature for feature in highly_correlated_features if feature not in columns_to_drop]\n",
        "highly_correlated_features"
      ]
    },
    {
      "cell_type": "code",
      "execution_count": null,
      "metadata": {
        "id": "T7jLI-dO2H2y"
      },
      "outputs": [],
      "source": [
        "#final selected columns after correlation\n",
        "selected_columns= list(highly_correlated_features)\n",
        "selected_columns"
      ]
    },
    {
      "cell_type": "code",
      "execution_count": 62,
      "metadata": {
        "id": "xgP7WRhdF8w9"
      },
      "outputs": [],
      "source": [
        "#Selected columns from correlation with 'age','shooting','skill_ball_control','work_rate' combined as they influence player rating\n",
        "selected_columns= ['movement_reactions','mentality_composure','passing','potential','release_clause_eur',\n",
        "                   'dribbling','wage_eur','power_shot_power','value_eur','mentality_vision',\n",
        "                   'attacking_short_passing','age','shooting','skill_ball_control','work_rate']"
      ]
    },
    {
      "cell_type": "code",
      "execution_count": null,
      "metadata": {
        "id": "tSLiv3rc2SUJ"
      },
      "outputs": [],
      "source": [
        "#Scaling\n",
        "# Extracting the selected features\n",
        "selected_features = players_21_imputed[selected_columns]\n",
        "scaler = StandardScaler()\n",
        "scaled_features = scaler.fit_transform(selected_features)\n",
        "# Converting the scaled features back to a DataFrame for better visualization and further operations\n",
        "scaled_features_df = pd.DataFrame(scaled_features, columns=selected_columns)\n",
        "scaled_features_df.head()"
      ]
    },
    {
      "cell_type": "code",
      "execution_count": null,
      "metadata": {
        "colab": {
          "base_uri": "https://localhost:8080/"
        },
        "id": "UwPMlrcP2qcG",
        "outputId": "2e280664-cd00-487c-dea4-9112d6da5c6b"
      },
      "outputs": [
        {
          "output_type": "execute_result",
          "data": {
            "text/plain": [
              "['scaler_model.joblib']"
            ]
          },
          "metadata": {},
          "execution_count": 26
        }
      ],
      "source": [
        "joblib.dump(scaler, 'scaler_model.joblib') # to be used when testing"
      ]
    },
    {
      "cell_type": "markdown",
      "metadata": {
        "id": "FElVjtOq3MdE"
      },
      "source": [
        "3. Create and train a suitable machine learning model with cross-validation that can predict a player's rating. [5]\n",
        "\n",
        "4. Measure the model's performance and fine-tune it as a process of optimization. [5]"
      ]
    },
    {
      "cell_type": "code",
      "execution_count": null,
      "metadata": {
        "id": "4JW7atJT3JiX"
      },
      "outputs": [],
      "source": [
        "X = scaled_features_df\n",
        "y = players_21_imputed['overall']"
      ]
    },
    {
      "cell_type": "code",
      "execution_count": null,
      "metadata": {
        "id": "psBScbrS3U2k"
      },
      "outputs": [],
      "source": [
        "#split into training and testing\n",
        "X_train, X_test, y_train, y_test = train_test_split(X, y, test_size=0.2, random_state=42)"
      ]
    },
    {
      "cell_type": "code",
      "execution_count": null,
      "metadata": {
        "colab": {
          "base_uri": "https://localhost:8080/"
        },
        "id": "72OwDent3avi",
        "outputId": "00068f4e-89c6-4b0f-aae8-30f0cecbc19a"
      },
      "outputs": [
        {
          "output_type": "stream",
          "name": "stdout",
          "text": [
            "Average MAE from Cross Validation: 0.28152424942263293\n"
          ]
        }
      ],
      "source": [
        "#Creating and Training the random forest Model using Cross-Validation\n",
        "rf = RandomForestRegressor(n_estimators=100, random_state=42)\n",
        "# Use cross-validation to train\n",
        "cross_val_scores = cross_val_score(rf, X_train, y_train, cv=5, scoring='neg_mean_absolute_error')\n",
        "print(f\"Average MAE from Cross Validation: {-cross_val_scores.mean()}\")"
      ]
    },
    {
      "cell_type": "code",
      "execution_count": null,
      "metadata": {
        "colab": {
          "base_uri": "https://localhost:8080/"
        },
        "id": "tJU5sHUD34hV",
        "outputId": "91eb98c1-341d-4ec0-f2e7-e2cf9d4d8656"
      },
      "outputs": [
        {
          "output_type": "stream",
          "name": "stdout",
          "text": [
            "Average MAE from Cross Validation with Gradient Boosting: 2.3178540533633143\n"
          ]
        }
      ],
      "source": [
        "#Creating and Training the gradient boost Model using Cross-Validation\n",
        "gboost_model = GradientBoostingRegressor(n_estimators=100, random_state=42)\n",
        "# Train the model with cross-validation\n",
        "scores = cross_val_score(gboost_model, X, y, scoring=\"neg_mean_absolute_error\", cv=5)\n",
        "average_mae_gboost = -scores.mean()\n",
        "print(f\"Average MAE from Cross Validation with Gradient Boosting: {average_mae_gboost}\")"
      ]
    },
    {
      "cell_type": "code",
      "execution_count": null,
      "metadata": {
        "colab": {
          "base_uri": "https://localhost:8080/"
        },
        "id": "BQkuOe954NYm",
        "outputId": "6c3ea7aa-5fbb-4d04-ecf9-8429e21683e7"
      },
      "outputs": [
        {
          "output_type": "stream",
          "name": "stdout",
          "text": [
            "XGBoost Cross-validated Mean Absolute Error: 2.149413922244201\n"
          ]
        }
      ],
      "source": [
        "xgb_model = xgb.XGBRegressor(objective='reg:squarederror', n_estimators=100)\n",
        "# Train the model with cross-validation\n",
        "xgb_scores = cross_val_score(xgb_model, X, y, cv=5, scoring='neg_mean_absolute_error')\n",
        "xgb_mean_mae = -xgb_scores.mean()\n",
        "print(f\"XGBoost Cross-validated Mean Absolute Error: {xgb_mean_mae}\")"
      ]
    },
    {
      "cell_type": "code",
      "execution_count": null,
      "metadata": {
        "colab": {
          "base_uri": "https://localhost:8080/"
        },
        "id": "S9canoiFBoKY",
        "outputId": "dced667e-6b54-4393-8f29-076d53383472"
      },
      "outputs": [
        {
          "output_type": "stream",
          "name": "stdout",
          "text": [
            "Best Parameters for Random Forest:\n",
            "{'max_depth': None, 'min_samples_leaf': 1, 'min_samples_split': 2, 'n_estimators': 200}\n",
            "Best MAE for Random Forest: 0.27939194985153415\n"
          ]
        }
      ],
      "source": [
        "#fine tuning random forest\n",
        "param_grid_rf = {\n",
        "    'n_estimators': [50, 100, 150, 200],\n",
        "    'max_depth': [None, 3, 5],\n",
        "    'min_samples_split': [2, 5],\n",
        "    'min_samples_leaf': [1, 2, 4]\n",
        "}\n",
        "rf_model = RandomForestRegressor(random_state=42)\n",
        "grid_search_rf = GridSearchCV(rf_model, param_grid_rf, cv=5, scoring='neg_mean_absolute_error', n_jobs=-1)\n",
        "grid_search_rf.fit(X_train, y_train)\n",
        "print(\"Best Parameters for Random Forest:\")\n",
        "print(grid_search_rf.best_params_)\n",
        "print(f\"Best MAE for Random Forest: {-grid_search_rf.best_score_}\")"
      ]
    },
    {
      "cell_type": "code",
      "execution_count": null,
      "metadata": {
        "colab": {
          "base_uri": "https://localhost:8080/"
        },
        "id": "w2nYk4MpJtEL",
        "outputId": "edbce4b5-ba82-4341-99ea-5f1f2be956fb"
      },
      "outputs": [
        {
          "name": "stdout",
          "output_type": "stream",
          "text": [
            "Optimized Random Forest MAE: 0.2520229612034837\n"
          ]
        }
      ],
      "source": [
        "# Predicting using the optimized Random Forest model\n",
        "rf_optimized_predictions = grid_search_rf.best_estimator_.predict(X_test)\n",
        "# Calculate MAE for optimized Random Forest model\n",
        "rf_optimized_mae = mean_absolute_error(y_test, rf_optimized_predictions)\n",
        "print(f\"Optimized Random Forest MAE: {rf_optimized_mae}\")"
      ]
    },
    {
      "cell_type": "code",
      "execution_count": null,
      "metadata": {
        "colab": {
          "base_uri": "https://localhost:8080/"
        },
        "id": "_j4V2xG-KppA",
        "outputId": "84e16d68-abc1-42bb-d207-41aa17429f7c"
      },
      "outputs": [
        {
          "output_type": "stream",
          "name": "stdout",
          "text": [
            "Best Parameters for Gradient Boosting:\n",
            "{'learning_rate': 0.05, 'max_depth': 5, 'min_samples_leaf': 4, 'min_samples_split': 10, 'n_estimators': 200, 'subsample': 0.9}\n",
            "Best MAE for Gradient Boosting: 0.3964194121737254\n"
          ]
        }
      ],
      "source": [
        "#fine tuning Gradient boost\n",
        "param_grid_gb = {\n",
        "    'n_estimators': [50, 100, 200],\n",
        "    'learning_rate': [0.01, 0.05],\n",
        "    'max_depth': [4, 5],\n",
        "    'min_samples_split': [5, 10],\n",
        "    'min_samples_leaf': [2, 4],\n",
        "    'subsample': [0.8, 0.9]\n",
        "}\n",
        "\n",
        "gb_model = GradientBoostingRegressor()\n",
        "\n",
        "grid_search_gb = GridSearchCV(gb_model, param_grid_gb, cv=5,\n",
        "                              scoring='neg_mean_absolute_error', n_jobs=-1)\n",
        "grid_search_gb.fit(X_train, y_train)\n",
        "print(\"Best Parameters for Gradient Boosting:\")\n",
        "print(grid_search_gb.best_params_)\n",
        "print(f\"Best MAE for Gradient Boosting: {-grid_search_gb.best_score_}\")"
      ]
    },
    {
      "cell_type": "code",
      "execution_count": null,
      "metadata": {
        "colab": {
          "base_uri": "https://localhost:8080/"
        },
        "id": "LdlMi6SjKraA",
        "outputId": "cf719f63-98d9-4236-f467-eab1111e9412"
      },
      "outputs": [
        {
          "output_type": "stream",
          "name": "stdout",
          "text": [
            "Optimized Gradient Boosting MAE: 0.38231359002931514\n"
          ]
        }
      ],
      "source": [
        "# Predicting using the optimized Gradient Boosting model\n",
        "gb_optimized_predictions = grid_search_gb.best_estimator_.predict(X_test)\n",
        "\n",
        "# Calculate MAE for optimized Gradient Boosting model\n",
        "gb_optimized_mae = mean_absolute_error(y_test, gb_optimized_predictions)\n",
        "\n",
        "print(f\"Optimized Gradient Boosting MAE: {gb_optimized_mae}\")"
      ]
    },
    {
      "cell_type": "code",
      "execution_count": null,
      "metadata": {
        "colab": {
          "base_uri": "https://localhost:8080/"
        },
        "id": "LCSq9slBKzKJ",
        "outputId": "dab67e6a-e839-4130-8a9e-97318b19c0f2"
      },
      "outputs": [
        {
          "output_type": "stream",
          "name": "stdout",
          "text": [
            "Best parameters for XGBoost: {'learning_rate': 0.1, 'max_depth': 7, 'n_estimators': 150}\n",
            "Best MAE for XGBoost: 0.31196077146061335\n"
          ]
        }
      ],
      "source": [
        "#fine tuning XG boost\n",
        "param_grid = {\n",
        "    'n_estimators': [50, 100, 150],\n",
        "    'max_depth': [3, 5, 7],\n",
        "    'learning_rate': [0.01, 0.05, 0.1]\n",
        "}\n",
        "\n",
        "grid_search = GridSearchCV(xgb_model, param_grid, cv=5, scoring='neg_mean_absolute_error')\n",
        "grid_search.fit(X_train, y_train)\n",
        "\n",
        "print(f\"Best parameters for XGBoost: {grid_search.best_params_}\")\n",
        "print(f\"Best MAE for XGBoost: {-grid_search.best_score_}\")\n"
      ]
    },
    {
      "cell_type": "code",
      "execution_count": null,
      "metadata": {
        "colab": {
          "base_uri": "https://localhost:8080/"
        },
        "id": "2p4hzzMqLATR",
        "outputId": "8520ac3f-d72c-416c-b9b6-b61f2b5576c9"
      },
      "outputs": [
        {
          "output_type": "stream",
          "name": "stdout",
          "text": [
            "Test MAE after fine-tuning for XGBoost: 0.29266076529677293\n"
          ]
        }
      ],
      "source": [
        "best_xgb_model = grid_search.best_estimator_\n",
        "\n",
        "best_xgb_model.fit(X_train, y_train)\n",
        "xgb_test_predictions = best_xgb_model.predict(X_test)\n",
        "xgb_test_mae = mean_absolute_error(y_test, xgb_test_predictions)\n",
        "\n",
        "print(f\"Test MAE after fine-tuning for XGBoost: {xgb_test_mae}\")"
      ]
    },
    {
      "cell_type": "markdown",
      "source": [
        "combining all 3 models"
      ],
      "metadata": {
        "id": "EcNf0YclxN9h"
      }
    },
    {
      "cell_type": "code",
      "execution_count": null,
      "metadata": {
        "colab": {
          "base_uri": "https://localhost:8080/"
        },
        "id": "4HUVgVqgLKJ1",
        "outputId": "cb4356b5-3227-4807-cae0-d64aa33e2ca8"
      },
      "outputs": [
        {
          "output_type": "stream",
          "name": "stdout",
          "text": [
            "Stacked Ensemble MAE: 0.262490318965769\n"
          ]
        }
      ],
      "source": [
        "from sklearn.ensemble import StackingRegressor\n",
        "from sklearn.linear_model import LinearRegression\n",
        "\n",
        "# Base models\n",
        "base_models = [\n",
        "    ('rf', grid_search_rf.best_estimator_),\n",
        "    ('gboost', grid_search_gb.best_estimator_),\n",
        "    ('xgb', best_xgb_model)\n",
        "]\n",
        "meta_model = LinearRegression()\n",
        "stacked_model = StackingRegressor(estimators=base_models, final_estimator=meta_model)\n",
        "stacked_model.fit(X_train, y_train)\n",
        "\n",
        "# Making predictions and computing MAE:\n",
        "stacked_predictions = stacked_model.predict(X_test)\n",
        "stacked_mae = mean_absolute_error(y_test, stacked_predictions)\n",
        "\n",
        "print(f\"Stacked Ensemble MAE: {stacked_mae}\")\n"
      ]
    },
    {
      "cell_type": "markdown",
      "metadata": {
        "id": "HdSQEfI7M-wx"
      },
      "source": [
        "5.Use the data from another season(players_22) which was not used during the training to test how good is the model. [5]"
      ]
    },
    {
      "cell_type": "code",
      "execution_count": null,
      "metadata": {
        "id": "RMYz8mhjM6UR"
      },
      "outputs": [],
      "source": [
        "players_22.head()"
      ]
    },
    {
      "cell_type": "code",
      "execution_count": null,
      "metadata": {
        "id": "Mmvnwp5uNRaU"
      },
      "outputs": [],
      "source": [
        "players_22.describe()"
      ]
    },
    {
      "cell_type": "code",
      "execution_count": null,
      "metadata": {
        "id": "wv41C8krNUYx"
      },
      "outputs": [],
      "source": [
        "players_22.info()"
      ]
    },
    {
      "cell_type": "code",
      "execution_count": null,
      "metadata": {
        "id": "pGIt3jEaNcxU"
      },
      "outputs": [],
      "source": [
        "#dropping columns with more than 30% missing values\n",
        "missing_percentage = players_22.isnull().sum() / len(players_22) * 100\n",
        "columns_to_drop = missing_percentage[missing_percentage > 30].index\n",
        "players_22.drop(columns=columns_to_drop, inplace=True)\n",
        "#dropping URLs and IDs since they do not contribute to player rating\n",
        "url_columns = [col for col in players_22.columns if 'url' in col.lower() or 'id' in col.lower()]\n",
        "players_22.drop(columns=url_columns, inplace=True)\n",
        "players_22.info()"
      ]
    },
    {
      "cell_type": "code",
      "execution_count": null,
      "metadata": {
        "id": "tf4nfUSPNeY2"
      },
      "outputs": [],
      "source": [
        "# Splitting into numeric and categorical\n",
        "numerical_data = players_22.select_dtypes(include=['int64', 'float64'])\n",
        "categoric_data = players_22.select_dtypes(include=['object'])\n",
        "# Imputing numeric data with the mean\n",
        "mean_imputer = SimpleImputer(strategy='mean')\n",
        "numerical_data_imputed = pd.DataFrame(mean_imputer.fit_transform(numerical_data), columns=numerical_data.columns)\n",
        "# Imputing categorical data with the mode\n",
        "mode_imputer = SimpleImputer(strategy='most_frequent')\n",
        "categoric_data_imputed = pd.DataFrame(mode_imputer.fit_transform(categoric_data), columns=categoric_data.columns)"
      ]
    },
    {
      "cell_type": "code",
      "execution_count": null,
      "metadata": {
        "id": "ERBePmE0NrA2"
      },
      "outputs": [],
      "source": [
        "from sklearn.preprocessing import LabelEncoder\n",
        "# Label encoding the imputed categorical data using Pandas\n",
        "categoric_data_imputed_encoded = categoric_data_imputed.apply(lambda col: col.astype('category').cat.codes)"
      ]
    },
    {
      "cell_type": "code",
      "execution_count": null,
      "metadata": {
        "id": "KdYKP1r4NwA8"
      },
      "outputs": [],
      "source": [
        "# Combining the imputed data back together\n",
        "players_22_imputed = pd.concat([numerical_data_imputed, categoric_data_imputed_encoded], axis=1)\n",
        "players_22_imputed = players_22_imputed[players_22.columns]\n",
        "players_22_imputed"
      ]
    },
    {
      "cell_type": "code",
      "execution_count": null,
      "metadata": {
        "id": "7ddEB78CN1Wl"
      },
      "outputs": [],
      "source": [
        "chosen_columns = players_22[highly_correlated_features]\n",
        "chosen_columns"
      ]
    },
    {
      "cell_type": "code",
      "execution_count": null,
      "metadata": {
        "id": "2t3xjqzrOHIF"
      },
      "outputs": [],
      "source": [
        "chosen_columns_22= ['movement_reactions','mentality_composure','passing','potential','release_clause_eur',\n",
        "                   'dribbling','wage_eur','power_shot_power','value_eur','mentality_vision',\n",
        "                   'attacking_short_passing','age','shooting','skill_ball_control','work_rate']# Same as 21"
      ]
    },
    {
      "cell_type": "code",
      "execution_count": null,
      "metadata": {
        "id": "sx2wNg1AN4fF"
      },
      "outputs": [],
      "source": [
        "#Scaling\n",
        "# Extracting the selected features\n",
        "selected_features_22 = players_22_imputed[chosen_columns_22]\n",
        "scaler = joblib.load('scaler_model.joblib','r')\n",
        "scaled_features = scaler.transform(selected_features_22)\n",
        "# Converting the scaled features back to a DataFrame for better visualization and further operations\n",
        "scaled_features_22_df = pd.DataFrame(scaled_features, columns=chosen_columns_22)\n",
        "scaled_features_22_df.head()"
      ]
    },
    {
      "cell_type": "code",
      "execution_count": null,
      "metadata": {
        "id": "9CuQQyH6PHQr"
      },
      "outputs": [],
      "source": [
        "actual_ratings_22 = players_22['overall']\n"
      ]
    },
    {
      "cell_type": "code",
      "execution_count": 63,
      "metadata": {
        "id": "KR7FghXJRfE3",
        "colab": {
          "base_uri": "https://localhost:8080/"
        },
        "outputId": "e8f493c2-4139-43a2-b733-7f9cf106e8b3"
      },
      "outputs": [
        {
          "output_type": "stream",
          "name": "stdout",
          "text": [
            "Mean Absolute Error on players_22 data using stacked ensemble model is : 0.5861531264618743\n"
          ]
        }
      ],
      "source": [
        "# 2. Evaluation using Mean Absolute Error\n",
        "predicted_ratings_22 = np.floor(stacked_model.predict(scaled_features_22_df))\n",
        "mae_22 = mean_absolute_error(actual_ratings_22, predicted_ratings_22)\n",
        "print(f\"Mean Absolute Error on players_22 data using stacked ensemble model is : {mae_22}\")"
      ]
    },
    {
      "cell_type": "code",
      "source": [
        "predicted_ratings_22 = np.floor(grid_search_rf.best_estimator_.predict(scaled_features_22_df))\n",
        "mae_22 = mean_absolute_error(actual_ratings_22, predicted_ratings_22)\n",
        "print(f\"Mean Absolute Error on players_22 data using trained random forest: {mae_22}\")"
      ],
      "metadata": {
        "colab": {
          "base_uri": "https://localhost:8080/"
        },
        "id": "c56qn547Nqc7",
        "outputId": "d9a7d689-ff8e-4787-89c4-482cf968023f"
      },
      "execution_count": 64,
      "outputs": [
        {
          "output_type": "stream",
          "name": "stdout",
          "text": [
            "Mean Absolute Error on players_22 data using trained random forest: 0.6103227818493685\n"
          ]
        }
      ]
    },
    {
      "cell_type": "code",
      "source": [
        "predicted_ratings_22 = np.floor(grid_search_gb.best_estimator_.predict(scaled_features_22_df))\n",
        "mae_22 = mean_absolute_error(actual_ratings_22, predicted_ratings_22)\n",
        "print(f\"Mean Absolute Error on players_22 data using gradient boost: {mae_22}\")"
      ],
      "metadata": {
        "colab": {
          "base_uri": "https://localhost:8080/"
        },
        "id": "0ph90pzqOJak",
        "outputId": "2dba14bc-c804-4894-f0c0-b4eabebdf1c0"
      },
      "execution_count": 65,
      "outputs": [
        {
          "output_type": "stream",
          "name": "stdout",
          "text": [
            "Mean Absolute Error on players_22 data using gradient boost: 0.6050210509901762\n"
          ]
        }
      ]
    },
    {
      "cell_type": "code",
      "source": [
        "predicted_ratings_22 = np.floor(best_xgb_model.predict(scaled_features_22_df))\n",
        "mae_22 = mean_absolute_error(actual_ratings_22, predicted_ratings_22)\n",
        "print(f\"Mean Absolute Error on players_22 data using XG boost: {mae_22}\")"
      ],
      "metadata": {
        "colab": {
          "base_uri": "https://localhost:8080/"
        },
        "id": "JtJmf9uWO3kt",
        "outputId": "c9ff4a4b-90e1-4acc-bf48-024d5147b62e"
      },
      "execution_count": 66,
      "outputs": [
        {
          "output_type": "stream",
          "name": "stdout",
          "text": [
            "Mean Absolute Error on players_22 data using XG boost: 0.5804875513280316\n"
          ]
        }
      ]
    },
    {
      "cell_type": "markdown",
      "source": [
        "Best model, with lowest MAE after testing is the XGBoost,although value very close to stacked ensemble model. Hence efficient"
      ],
      "metadata": {
        "id": "iKjkD_2YyJtE"
      }
    },
    {
      "cell_type": "markdown",
      "metadata": {
        "id": "B8WVKvLbSRos"
      },
      "source": [
        "6. Deployment"
      ]
    },
    {
      "cell_type": "code",
      "execution_count": null,
      "metadata": {
        "colab": {
          "base_uri": "https://localhost:8080/"
        },
        "id": "gnjAK7aaSQ7t",
        "outputId": "f58d341e-40e5-4d3e-f8aa-fda156f8f412"
      },
      "outputs": [
        {
          "output_type": "stream",
          "name": "stdout",
          "text": [
            "Requirement already satisfied: joblib in /usr/local/lib/python3.10/dist-packages (1.3.2)\n"
          ]
        }
      ],
      "source": [
        "!pip install joblib\n",
        "from joblib import dump"
      ]
    },
    {
      "cell_type": "code",
      "execution_count": null,
      "metadata": {
        "colab": {
          "base_uri": "https://localhost:8080/"
        },
        "id": "BXD6yi0HUHRQ",
        "outputId": "2ba3ed01-6eff-4e56-87a2-a4ae94ac1b8d"
      },
      "outputs": [
        {
          "data": {
            "text/plain": [
              "['trained_ensemble_model.joblib']"
            ]
          },
          "execution_count": 63,
          "metadata": {},
          "output_type": "execute_result"
        }
      ],
      "source": [
        "dump(stacked_model, 'trained_ensemble_model.joblib')"
      ]
    },
    {
      "cell_type": "code",
      "source": [
        "dump(best_xgb_model, 'best_model.joblib')"
      ],
      "metadata": {
        "colab": {
          "base_uri": "https://localhost:8080/"
        },
        "id": "KS0tQ__nQkJI",
        "outputId": "519d3f4e-0939-4549-c33b-df21a43c3bc7"
      },
      "execution_count": null,
      "outputs": [
        {
          "output_type": "execute_result",
          "data": {
            "text/plain": [
              "['best_model.joblib']"
            ]
          },
          "metadata": {},
          "execution_count": 60
        }
      ]
    },
    {
      "cell_type": "code",
      "execution_count": null,
      "metadata": {
        "colab": {
          "base_uri": "https://localhost:8080/",
          "height": 36
        },
        "id": "8n_kpLT2UM-d",
        "outputId": "9b7b2f13-d7d8-4d9e-a9cd-ab83c512f270"
      },
      "outputs": [
        {
          "data": {
            "application/vnd.google.colaboratory.intrinsic+json": {
              "type": "string"
            },
            "text/plain": [
              "'1.2.2'"
            ]
          },
          "execution_count": 64,
          "metadata": {},
          "output_type": "execute_result"
        }
      ],
      "source": [
        "import sklearn\n",
        "sklearn.__version__"
      ]
    }
  ],
  "metadata": {
    "colab": {
      "provenance": []
    },
    "kernelspec": {
      "display_name": "Python 3",
      "name": "python3"
    },
    "language_info": {
      "name": "python"
    }
  },
  "nbformat": 4,
  "nbformat_minor": 0
}